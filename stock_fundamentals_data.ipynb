{
 "cells": [
  {
   "cell_type": "code",
   "execution_count": 82,
   "metadata": {},
   "outputs": [],
   "source": [
    "import requests\n",
    "import pandas as pd\n",
    "import requests\n",
    "from bs4 import BeautifulSoup\n",
    "import re\n",
    "from textblob import TextBlob\n",
    "import numpy as np\n",
    "import time"
   ]
  },
  {
   "cell_type": "markdown",
   "metadata": {},
   "source": [
    "## Get article links for each company through"
   ]
  },
  {
   "cell_type": "code",
   "execution_count": 2,
   "metadata": {},
   "outputs": [],
   "source": [
    "r = requests.get('https://www.cnbc.com/2018/10/24/reuters-america-update-3-microsoft-sales-and-profit-beat-estimates-on-cloud-growth.html?&amp;qsearchterm=microsoft%20corp')\n",
    "html = r.text\n",
    "soup = BeautifulSoup(html)\n",
    "article_content = soup.findAll('div', {'class':\"group\"})\n",
    "\n",
    "\n",
    "strings = \"\"\n",
    "for h in article_content:\n",
    "    strings += str(h)\n",
    "\n",
    "title = soup.find(\"meta\",  property=\"article:published_time\")\n",
    "\n",
    "title['content']\n",
    "\n",
    "\n",
    "regex = r\"(?<=>).*?(?=<)\"\n",
    "\n",
    "\n",
    "article = ''\n",
    "matches = re.finditer(regex, strings, re.MULTILINE)\n",
    "\n",
    "for match in matches:\n",
    "    article += match.group()\n",
    "\n"
   ]
  },
  {
   "cell_type": "code",
   "execution_count": 83,
   "metadata": {},
   "outputs": [],
   "source": [
    "def time_content(links):\n",
    "    time_content = {}\n",
    "    for link in links:\n",
    "        r = requests.get(link)\n",
    "        html = r.text\n",
    "        soup = BeautifulSoup(html)\n",
    "        article_content = soup.findAll('div', {'class':\"group\"})\n",
    "        strings = \"\"\n",
    "        for h in article_content:\n",
    "            strings += str(h)\n",
    "        \n",
    "        regex = r\"(?<=>).*?(?=<)\"\n",
    "        article = ''\n",
    "        matches = re.finditer(regex, strings, re.MULTILINE)\n",
    "        for match in matches:\n",
    "            article += match.group()\n",
    "        \n",
    "        title = soup.find(\"meta\",  property=\"article:published_time\")\n",
    "        if title is None:\n",
    "            time = 0\n",
    "        else:\n",
    "            time = title[\"content\"]\n",
    "                \n",
    "        time_content.update({time : article})\n",
    "        \n",
    "        \n",
    "    return time_content"
   ]
  },
  {
   "cell_type": "code",
   "execution_count": 3,
   "metadata": {},
   "outputs": [],
   "source": [
    "# article\n",
    "\n",
    "from selenium import webdriver\n",
    "from selenium.webdriver.common.keys import Keys\n",
    "import pandas as pd\n",
    "\n",
    "driver = webdriver.Firefox()\n",
    "driver.get(\"https://www.cnbc.com/search/?query=microsoft%20corp&qsearchterm=microsoft%20corp\")\n",
    "# assert \"Python\" in driver.title\n",
    "\n",
    "continue_link = driver.find_element_by_class_name('resultlink')\n",
    "# print(continue_link.get_attribute('href'))\n",
    "\n",
    "for i in range(1,400):\n",
    "    driver.execute_script(\"window.scrollTo(0,   document.body.scrollHeight);\")\n",
    "    time.sleep(1)\n",
    "html_source = driver.page_source\n",
    "data = html_source.encode('utf-8')\n",
    "\n",
    "driver.quit()\n",
    "\n",
    "data = data.decode(\"utf-8\") \n",
    "\n",
    "links = []\n",
    "\n",
    "import re\n",
    "\n",
    "regex = r\"(?<=\\\"resultlink\\\" style=\\\"color:black;\\\" href=\\\").*?(?=\\\">)\"\n",
    "\n",
    "matches = re.finditer(regex, data, re.MULTILINE)\n",
    "\n",
    "for match in matches:\n",
    "    \n",
    "    links.append(match.group())\n",
    "\n",
    "df_links = pd.DataFrame(links, columns=['links'])\n",
    "df_links.to_pickle('microsoft_links.pkl')"
   ]
  },
  {
   "cell_type": "code",
   "execution_count": 85,
   "metadata": {},
   "outputs": [],
   "source": [
    "#read file that contains 2000 saved links on microsofts articles from CNBC\n",
    "ms_links = pd.read_pickle('microsoft_links.pkl')\n",
    "\n",
    "#turns links to a list\n",
    "ms_links = ms_links['links'].to_list()\n",
    "\n",
    "#scrape content of each link\n",
    "microsoft_content = time_content(ms_links[0:100])\n",
    "\n",
    "#put into a DataFrame\n",
    "df_articles = pd.DataFrame(microsoft_content.items(), columns=['Date', 'Content'])"
   ]
  },
  {
   "cell_type": "code",
   "execution_count": 4,
   "metadata": {},
   "outputs": [],
   "source": [
    "beat_df = df_articles[df_articles['Content'].str.contains(\"beat\")]\n",
    "#[0] is positive\n",
    "#[9] is weakly negative\n",
    "#[10] is weakly positive\n",
    "\n",
    "increase = df_articles[df_articles['Content'].str.contains(\"increase\")]\n",
    "#6 is weakly positive\n",
    "#9 is negative\n",
    "#15 is positive"
   ]
  },
  {
   "cell_type": "code",
   "execution_count": 5,
   "metadata": {},
   "outputs": [
    {
     "name": "stderr",
     "output_type": "stream",
     "text": [
      "/anaconda3/lib/python3.6/site-packages/ipykernel_launcher.py:1: SettingWithCopyWarning: \n",
      "A value is trying to be set on a copy of a slice from a DataFrame.\n",
      "Try using .loc[row_indexer,col_indexer] = value instead\n",
      "\n",
      "See the caveats in the documentation: http://pandas.pydata.org/pandas-docs/stable/indexing.html#indexing-view-versus-copy\n",
      "  \"\"\"Entry point for launching an IPython kernel.\n"
     ]
    }
   ],
   "source": [
    "beat_df['positivity'] = beat_df['Date']\n",
    "beat_df = beat_df.drop(columns='Date')\n",
    "\n",
    "beat_df['text'] = beat_df['Content']\n",
    "beat_df = beat_df.drop(columns='Content')\n",
    "\n",
    "beat_df['positivity'][0] = 3\n",
    "beat_df['positivity'][10] = 4\n",
    "beat_df = beat_df.drop([ 1,  9, 11, 13, 24, 27, 30, 31, 33, 44, 45, 46, 47, 51, 52,\n",
    "            53, 54, 55, 56, 57, 58, 59, 60, 61, 69, 70, 86])"
   ]
  },
  {
   "cell_type": "code",
   "execution_count": 6,
   "metadata": {
    "scrolled": true
   },
   "outputs": [
    {
     "data": {
      "text/html": [
       "<div>\n",
       "<style scoped>\n",
       "    .dataframe tbody tr th:only-of-type {\n",
       "        vertical-align: middle;\n",
       "    }\n",
       "\n",
       "    .dataframe tbody tr th {\n",
       "        vertical-align: top;\n",
       "    }\n",
       "\n",
       "    .dataframe thead th {\n",
       "        text-align: right;\n",
       "    }\n",
       "</style>\n",
       "<table border=\"1\" class=\"dataframe\">\n",
       "  <thead>\n",
       "    <tr style=\"text-align: right;\">\n",
       "      <th></th>\n",
       "      <th>positivity</th>\n",
       "      <th>text</th>\n",
       "    </tr>\n",
       "  </thead>\n",
       "  <tbody>\n",
       "    <tr>\n",
       "      <th>0</th>\n",
       "      <td>3</td>\n",
       "      <td>(Adds revenue outlook)Jan 30 (Reuters) - Micro...</td>\n",
       "    </tr>\n",
       "    <tr>\n",
       "      <th>10</th>\n",
       "      <td>4</td>\n",
       "      <td>One thing is for certain: Analysts continue to...</td>\n",
       "    </tr>\n",
       "  </tbody>\n",
       "</table>\n",
       "</div>"
      ],
      "text/plain": [
       "   positivity                                               text\n",
       "0           3  (Adds revenue outlook)Jan 30 (Reuters) - Micro...\n",
       "10          4  One thing is for certain: Analysts continue to..."
      ]
     },
     "execution_count": 6,
     "metadata": {},
     "output_type": "execute_result"
    }
   ],
   "source": [
    "beat_df"
   ]
  },
  {
   "cell_type": "code",
   "execution_count": 7,
   "metadata": {},
   "outputs": [
    {
     "name": "stderr",
     "output_type": "stream",
     "text": [
      "/anaconda3/lib/python3.6/site-packages/ipykernel_launcher.py:1: SettingWithCopyWarning: \n",
      "A value is trying to be set on a copy of a slice from a DataFrame.\n",
      "Try using .loc[row_indexer,col_indexer] = value instead\n",
      "\n",
      "See the caveats in the documentation: http://pandas.pydata.org/pandas-docs/stable/indexing.html#indexing-view-versus-copy\n",
      "  \"\"\"Entry point for launching an IPython kernel.\n"
     ]
    }
   ],
   "source": [
    "increase['positivity'] = increase['Date']\n",
    "increase = increase.drop(columns='Date')\n",
    "\n",
    "increase['text'] = increase['Content']\n",
    "increase = increase.drop(columns='Content')\n",
    "\n",
    "increase['positivity'][15] = 3\n",
    "increase['positivity'][6] = 4\n",
    "increase['positivity'][9] = 1\n",
    "increase = increase.drop([ 0, 8, 18, 29, 38, 39, 45, 50, 63, 69, 70, 74, 75, 77, 83, 87])\n",
    "\n",
    "#5 is neutral, 6-7 is weakly positive, 8-9 is positive, 3-4 weakly negative, 1-2 is negative\n",
    "\n",
    "#1 is negative, 2 weakly negative, 3 is positive, 4 is weakly positive, 5 is neutral"
   ]
  },
  {
   "cell_type": "code",
   "execution_count": 8,
   "metadata": {},
   "outputs": [
    {
     "data": {
      "text/html": [
       "<div>\n",
       "<style scoped>\n",
       "    .dataframe tbody tr th:only-of-type {\n",
       "        vertical-align: middle;\n",
       "    }\n",
       "\n",
       "    .dataframe tbody tr th {\n",
       "        vertical-align: top;\n",
       "    }\n",
       "\n",
       "    .dataframe thead th {\n",
       "        text-align: right;\n",
       "    }\n",
       "</style>\n",
       "<table border=\"1\" class=\"dataframe\">\n",
       "  <thead>\n",
       "    <tr style=\"text-align: right;\">\n",
       "      <th></th>\n",
       "      <th>positivity</th>\n",
       "      <th>text</th>\n",
       "    </tr>\n",
       "  </thead>\n",
       "  <tbody>\n",
       "    <tr>\n",
       "      <th>6</th>\n",
       "      <td>4</td>\n",
       "      <td>Microsoft's longer-term cloud contracts are fo...</td>\n",
       "    </tr>\n",
       "    <tr>\n",
       "      <th>9</th>\n",
       "      <td>1</td>\n",
       "      <td>Microsoft's revenue was slightly below consens...</td>\n",
       "    </tr>\n",
       "    <tr>\n",
       "      <th>15</th>\n",
       "      <td>3</td>\n",
       "      <td>Confluent, which commercializes the Apache Kaf...</td>\n",
       "    </tr>\n",
       "  </tbody>\n",
       "</table>\n",
       "</div>"
      ],
      "text/plain": [
       "   positivity                                               text\n",
       "6           4  Microsoft's longer-term cloud contracts are fo...\n",
       "9           1  Microsoft's revenue was slightly below consens...\n",
       "15          3  Confluent, which commercializes the Apache Kaf..."
      ]
     },
     "execution_count": 8,
     "metadata": {},
     "output_type": "execute_result"
    }
   ],
   "source": [
    "increase"
   ]
  },
  {
   "cell_type": "code",
   "execution_count": 9,
   "metadata": {
    "scrolled": true
   },
   "outputs": [],
   "source": [
    "# response = requests.get(\"https://newsapi.org/v2/everything?q=microsoft&sources=reuters&pageSize=100&apiKey=04fa90910183440c97c0e04751bc72c4\")\n",
    "# microsoft_news_json = response.json()\n",
    "# microsoft_art = microsoft_news_json['articles']\n",
    "\n",
    "\n",
    "# def get_time_links(json):\n",
    "#     dicts = {}\n",
    "#     for x in range(0,100):\n",
    "#         time = json['articles'][x]['publishedAt']\n",
    "#         url = json['articles'][x]['url']\n",
    "#         dicts.update( { time : url} )\n",
    "#     return dicts\n",
    "\n",
    "# microsoft_links = get_time_links(microsoft_news_json)\n",
    "# len(microsoft_links)\n",
    "\n",
    "\n",
    "# def clean_time(links):  \n",
    "#     empty = {}\n",
    "#     for key, value in links.items():\n",
    "#             datetime = key.split('T')\n",
    "#             time = datetime[1].strip('Z')\n",
    "#             datetime[1] = time\n",
    "#             datetime = ' '.join(datetime)\n",
    "#             empty.update({datetime : value})\n",
    "#     return empty\n",
    "\n",
    "#cleaned_micro_links = clean_time(microsoft_links)"
   ]
  },
  {
   "cell_type": "markdown",
   "metadata": {},
   "source": [
    " "
   ]
  },
  {
   "cell_type": "markdown",
   "metadata": {},
   "source": [
    "## Scrape Article Content"
   ]
  },
  {
   "cell_type": "code",
   "execution_count": 10,
   "metadata": {},
   "outputs": [],
   "source": [
    "def get_content(urls_list):\n",
    "    article_contents = {}\n",
    "    for key, value in urls_list.items():\n",
    "        r = requests.get(value)\n",
    "        html = r.text\n",
    "        soup = BeautifulSoup(html)\n",
    "        foundp = soup.findAll('p')\n",
    "        \n",
    "        content = str()\n",
    "        for para in foundp:\n",
    "            text = para.text\n",
    "            string_text = str(text)\n",
    "            content += string_text\n",
    "        article_contents.update({key : content})\n",
    "    return article_contents\n",
    "#         article_contents.append(content)\n",
    "#     return article_contents\n",
    "        "
   ]
  },
  {
   "cell_type": "code",
   "execution_count": 12,
   "metadata": {
    "scrolled": true
   },
   "outputs": [],
   "source": [
    "# microsoft_content = get_content(cleaned_micro_links)\n",
    "\n",
    "# list(microsoft_content.keys())[0]"
   ]
  },
  {
   "cell_type": "markdown",
   "metadata": {},
   "source": [
    " "
   ]
  },
  {
   "cell_type": "markdown",
   "metadata": {},
   "source": [
    "## Get Stock Prices API"
   ]
  },
  {
   "cell_type": "code",
   "execution_count": 13,
   "metadata": {},
   "outputs": [],
   "source": [
    "r = requests.get('https://www.alphavantage.co/query?function=TIME_SERIES_DAILY_ADJUSTED&symbol=MSFT&apikey=TZZ9RPNH9YGP8SXX&datatype=json')\n",
    "microsoft_prices = r.json()"
   ]
  },
  {
   "cell_type": "code",
   "execution_count": 14,
   "metadata": {},
   "outputs": [
    {
     "data": {
      "text/plain": [
       "{'1. open': '106.0600',\n",
       " '2. high': '107.2700',\n",
       " '3. low': '105.9600',\n",
       " '4. close': '107.2200',\n",
       " '5. adjusted close': '107.2200',\n",
       " '6. volume': '27269960',\n",
       " '7. dividend amount': '0.0000',\n",
       " '8. split coefficient': '1.0000'}"
      ]
     },
     "execution_count": 14,
     "metadata": {},
     "output_type": "execute_result"
    }
   ],
   "source": [
    "microsoft_prices['Time Series (Daily)']['2019-02-05']"
   ]
  },
  {
   "cell_type": "code",
   "execution_count": 15,
   "metadata": {},
   "outputs": [
    {
     "data": {
      "text/plain": [
       "'107.2700'"
      ]
     },
     "execution_count": 15,
     "metadata": {},
     "output_type": "execute_result"
    }
   ],
   "source": [
    "URL = \"https://www.alphavantage.co/query?\"\n",
    "PARAMS = { 'function' : 'TIME_SERIES_Daily', 'symbol':'MSFT', 'outputsize':'full','datatype':'json', 'apikey':'TZZ9RPNH9YGP8SXX'}\n",
    "\n",
    "response = requests.get(URL,PARAMS)\n",
    "\n",
    "x = response.json()\n",
    "\n",
    "spy_df = pd.DataFrame(x['Time Series (Daily)'])\n",
    "\n",
    "x['Time Series (Daily)']['2019-02-05']['2. high']"
   ]
  },
  {
   "cell_type": "markdown",
   "metadata": {},
   "source": [
    "&nbsp;"
   ]
  },
  {
   "cell_type": "markdown",
   "metadata": {},
   "source": [
    "## Get Sentiment each article"
   ]
  },
  {
   "cell_type": "code",
   "execution_count": 16,
   "metadata": {},
   "outputs": [],
   "source": [
    "# blob = TextBlob(list(microsoft_content.values())[0])\n",
    "# polarity = blob.sentiment.polarity, blob.sentiment.subjectivity\n",
    "# list(polarity)\n",
    "\n",
    "# for key, value in microsoft_content.items():\n",
    "#     blob = TextBlob(value)\n",
    "#     polarity = blob.sentiment.polarity, blob.sentiment.subjectivity\n",
    "#     sentiment = list(polarity)\n",
    "#     print(sentiment)\n",
    "#     if sentiment[0] > .05:\n",
    "#         print(value)\n",
    "#         print(sentiment[0])\n",
    "\n",
    "# import mediacloud.api\n",
    "# mc = mediacloud.api.MediaCloud('9bdec5b06584ca67419e76e8d9cc3997e40f9184e14e1af7251fc5ee7b753672')\n",
    "# res = mc.storyCount('Microsoft AND tags_id_media:58722749', 'publish_date:[NOW-1YEAR TO NOW]')\n",
    "# print(res['count'])"
   ]
  },
  {
   "cell_type": "code",
   "execution_count": 17,
   "metadata": {},
   "outputs": [
    {
     "name": "stdout",
     "output_type": "stream",
     "text": [
      "[2. 4. 5. 1. 3.]\n"
     ]
    }
   ],
   "source": [
    "#read csv datasets\n",
    "csv = pd.read_csv('datasets/us-economic-newspaper.csv', encoding=\"ISO-8859-1\")\n",
    "csv2 = pd.read_csv('datasets/dataset2.csv', encoding = \"ISO-8859-1\")\n",
    "\n",
    "\n",
    "csv = csv.loc[csv['positivity:confidence'] > .5]\n",
    "csv2 = csv2.loc[csv2['positivity:confidence'] > .5]\n",
    "\n",
    "\n",
    "csv['positivity'] = csv['positivity'].replace(2, 1)\n",
    "csv['positivity'] = csv['positivity'].replace([3, 4], 2)\n",
    "csv['positivity'] = csv['positivity'].replace([6, 7], 4)\n",
    "csv['positivity'] = csv['positivity'].replace([8, 9], 3)\n",
    "\n",
    "csv2['positivity'] = csv2['positivity'].replace(2, 1)\n",
    "csv2['positivity'] = csv2['positivity'].replace([3, 4], 2)\n",
    "csv2['positivity'] = csv2['positivity'].replace([6, 7], 4)\n",
    "csv2['positivity'] = csv2['positivity'].replace([8, 9], 3)\n",
    "\n",
    "\n",
    "#5 is neutral, 6-7 is weakly positive, 8-9 is positive, 3-4 weakly negative, 1-2 is negative\n",
    "\n",
    "#1 is negative, 2 weakly negative, 3 is positive, 4 is weakly positive, 5 is neutral\n",
    "\n",
    "print(csv2['positivity'].unique())\n",
    "\n",
    "# len(csv.loc[csv['positivity'] == 3])"
   ]
  },
  {
   "cell_type": "code",
   "execution_count": 18,
   "metadata": {},
   "outputs": [
    {
     "data": {
      "text/html": [
       "<div>\n",
       "<style scoped>\n",
       "    .dataframe tbody tr th:only-of-type {\n",
       "        vertical-align: middle;\n",
       "    }\n",
       "\n",
       "    .dataframe tbody tr th {\n",
       "        vertical-align: top;\n",
       "    }\n",
       "\n",
       "    .dataframe thead th {\n",
       "        text-align: right;\n",
       "    }\n",
       "</style>\n",
       "<table border=\"1\" class=\"dataframe\">\n",
       "  <thead>\n",
       "    <tr style=\"text-align: right;\">\n",
       "      <th></th>\n",
       "      <th>positivity</th>\n",
       "      <th>text</th>\n",
       "    </tr>\n",
       "  </thead>\n",
       "  <tbody>\n",
       "    <tr>\n",
       "      <th>0</th>\n",
       "      <td>2.0</td>\n",
       "      <td>NEW YORK -- Yields on most certificates of dep...</td>\n",
       "    </tr>\n",
       "    <tr>\n",
       "      <th>5</th>\n",
       "      <td>2.0</td>\n",
       "      <td>Stocks declined, as investors weighed slower-t...</td>\n",
       "    </tr>\n",
       "    <tr>\n",
       "      <th>9</th>\n",
       "      <td>2.0</td>\n",
       "      <td>The U.S. dollar declined against most major fo...</td>\n",
       "    </tr>\n",
       "    <tr>\n",
       "      <th>17</th>\n",
       "      <td>2.0</td>\n",
       "      <td>NEW YORK -- The dollar sagged yesterday, as ne...</td>\n",
       "    </tr>\n",
       "    <tr>\n",
       "      <th>20</th>\n",
       "      <td>4.0</td>\n",
       "      <td>The technology industry, an engine of innovati...</td>\n",
       "    </tr>\n",
       "  </tbody>\n",
       "</table>\n",
       "</div>"
      ],
      "text/plain": [
       "    positivity                                               text\n",
       "0          2.0  NEW YORK -- Yields on most certificates of dep...\n",
       "5          2.0  Stocks declined, as investors weighed slower-t...\n",
       "9          2.0  The U.S. dollar declined against most major fo...\n",
       "17         2.0  NEW YORK -- The dollar sagged yesterday, as ne...\n",
       "20         4.0  The technology industry, an engine of innovati..."
      ]
     },
     "execution_count": 18,
     "metadata": {},
     "output_type": "execute_result"
    }
   ],
   "source": [
    "# csv.columns\n",
    "csv = csv.drop(columns= ['_unit_id', '_golden', '_unit_state', '_trusted_judgments',\n",
    "       '_last_judgment_at', 'positivity:confidence', 'relevance',\n",
    "       'relevance:confidence', 'orig__golden', 'articleid', 'date', 'headline',\n",
    "       'lineid', 'next_sentence', 'positivity_gold', 'previous_sentence',\n",
    "       'relevance_gold'])\n",
    "\n",
    "# csv2.columns\n",
    "csv2 = csv2.drop(columns= ['_unit_id', '_golden', '_unit_state', '_trusted_judgments',\n",
    "       '_last_judgment_at','positivity:confidence', 'relevance',\n",
    "       'relevance:confidence', 'articleid', 'date', 'headline',\n",
    "       'positivity_gold', 'relevance_gold'])\n",
    "\n",
    "csv2.head()"
   ]
  },
  {
   "cell_type": "code",
   "execution_count": 19,
   "metadata": {
    "scrolled": true
   },
   "outputs": [
    {
     "data": {
      "text/plain": [
       "1902"
      ]
     },
     "execution_count": 19,
     "metadata": {},
     "output_type": "execute_result"
    }
   ],
   "source": [
    "#take out null values\n",
    "df = csv[np.isfinite(csv['positivity'])]\n",
    "df2 = csv2[np.isfinite(csv2['positivity'])]\n",
    "\n",
    "#reset index\n",
    "df = df.reset_index()\n",
    "df2 = df2.reset_index()\n",
    "\n",
    "#drop index\n",
    "df = df.drop(columns = 'index')\n",
    "df2 = df2.drop(columns = 'index')\n",
    "\n",
    "#add the two datasets\n",
    "df = df.append(df2)\n",
    "\n",
    "len(df)"
   ]
  },
  {
   "cell_type": "code",
   "execution_count": 20,
   "metadata": {},
   "outputs": [],
   "source": [
    "df['positivity'] = df['positivity'].astype(int)"
   ]
  },
  {
   "cell_type": "code",
   "execution_count": 21,
   "metadata": {},
   "outputs": [
    {
     "data": {
      "text/html": [
       "<div>\n",
       "<style scoped>\n",
       "    .dataframe tbody tr th:only-of-type {\n",
       "        vertical-align: middle;\n",
       "    }\n",
       "\n",
       "    .dataframe tbody tr th {\n",
       "        vertical-align: top;\n",
       "    }\n",
       "\n",
       "    .dataframe thead th {\n",
       "        text-align: right;\n",
       "    }\n",
       "</style>\n",
       "<table border=\"1\" class=\"dataframe\">\n",
       "  <thead>\n",
       "    <tr style=\"text-align: right;\">\n",
       "      <th></th>\n",
       "      <th>positivity</th>\n",
       "      <th>text</th>\n",
       "    </tr>\n",
       "  </thead>\n",
       "  <tbody>\n",
       "    <tr>\n",
       "      <th>618</th>\n",
       "      <td>4</td>\n",
       "      <td>After two months in which bad weather held dow...</td>\n",
       "    </tr>\n",
       "    <tr>\n",
       "      <th>619</th>\n",
       "      <td>2</td>\n",
       "      <td>Nicholas F. Brady, the investment banker who d...</td>\n",
       "    </tr>\n",
       "    <tr>\n",
       "      <th>620</th>\n",
       "      <td>2</td>\n",
       "      <td>NEW YORK. Juno 28 cAP) ÛÓFor the second conse...</td>\n",
       "    </tr>\n",
       "    <tr>\n",
       "      <th>621</th>\n",
       "      <td>4</td>\n",
       "      <td>The stock market, jolted 'back, into motion by...</td>\n",
       "    </tr>\n",
       "    <tr>\n",
       "      <th>622</th>\n",
       "      <td>4</td>\n",
       "      <td>Housing starts surged by 4.4 percent last mont...</td>\n",
       "    </tr>\n",
       "  </tbody>\n",
       "</table>\n",
       "</div>"
      ],
      "text/plain": [
       "     positivity                                               text\n",
       "618           4  After two months in which bad weather held dow...\n",
       "619           2  Nicholas F. Brady, the investment banker who d...\n",
       "620           2  NEW YORK. Juno 28 cAP) ÛÓFor the second conse...\n",
       "621           4  The stock market, jolted 'back, into motion by...\n",
       "622           4  Housing starts surged by 4.4 percent last mont..."
      ]
     },
     "execution_count": 21,
     "metadata": {},
     "output_type": "execute_result"
    }
   ],
   "source": [
    "df.tail()"
   ]
  },
  {
   "cell_type": "code",
   "execution_count": 22,
   "metadata": {},
   "outputs": [],
   "source": [
    "df = df.append([increase], ignore_index = True)"
   ]
  },
  {
   "cell_type": "code",
   "execution_count": 23,
   "metadata": {},
   "outputs": [],
   "source": [
    "df['positivity'] = df['positivity'].astype(int)"
   ]
  },
  {
   "cell_type": "code",
   "execution_count": 24,
   "metadata": {},
   "outputs": [
    {
     "data": {
      "text/html": [
       "<div>\n",
       "<style scoped>\n",
       "    .dataframe tbody tr th:only-of-type {\n",
       "        vertical-align: middle;\n",
       "    }\n",
       "\n",
       "    .dataframe tbody tr th {\n",
       "        vertical-align: top;\n",
       "    }\n",
       "\n",
       "    .dataframe thead th {\n",
       "        text-align: right;\n",
       "    }\n",
       "</style>\n",
       "<table border=\"1\" class=\"dataframe\">\n",
       "  <thead>\n",
       "    <tr style=\"text-align: right;\">\n",
       "      <th></th>\n",
       "      <th>positivity</th>\n",
       "      <th>text</th>\n",
       "    </tr>\n",
       "  </thead>\n",
       "  <tbody>\n",
       "    <tr>\n",
       "      <th>1900</th>\n",
       "      <td>4</td>\n",
       "      <td>The stock market, jolted 'back, into motion by...</td>\n",
       "    </tr>\n",
       "    <tr>\n",
       "      <th>1901</th>\n",
       "      <td>4</td>\n",
       "      <td>Housing starts surged by 4.4 percent last mont...</td>\n",
       "    </tr>\n",
       "    <tr>\n",
       "      <th>1902</th>\n",
       "      <td>4</td>\n",
       "      <td>Microsoft's longer-term cloud contracts are fo...</td>\n",
       "    </tr>\n",
       "    <tr>\n",
       "      <th>1903</th>\n",
       "      <td>1</td>\n",
       "      <td>Microsoft's revenue was slightly below consens...</td>\n",
       "    </tr>\n",
       "    <tr>\n",
       "      <th>1904</th>\n",
       "      <td>3</td>\n",
       "      <td>Confluent, which commercializes the Apache Kaf...</td>\n",
       "    </tr>\n",
       "  </tbody>\n",
       "</table>\n",
       "</div>"
      ],
      "text/plain": [
       "      positivity                                               text\n",
       "1900           4  The stock market, jolted 'back, into motion by...\n",
       "1901           4  Housing starts surged by 4.4 percent last mont...\n",
       "1902           4  Microsoft's longer-term cloud contracts are fo...\n",
       "1903           1  Microsoft's revenue was slightly below consens...\n",
       "1904           3  Confluent, which commercializes the Apache Kaf..."
      ]
     },
     "execution_count": 24,
     "metadata": {},
     "output_type": "execute_result"
    }
   ],
   "source": [
    "df.tail()"
   ]
  },
  {
   "cell_type": "markdown",
   "metadata": {},
   "source": [
    "&nbsp;"
   ]
  },
  {
   "cell_type": "markdown",
   "metadata": {},
   "source": [
    "## NLTK: Natural Language Tool Kit"
   ]
  },
  {
   "cell_type": "code",
   "execution_count": 25,
   "metadata": {},
   "outputs": [
    {
     "name": "stdout",
     "output_type": "stream",
     "text": [
      "Index(['positivity', 'text'], dtype='object')\n"
     ]
    }
   ],
   "source": [
    "import nltk\n",
    "import sklearn\n",
    "\n",
    "from nltk.collocations import *\n",
    "from nltk import FreqDist, word_tokenize\n",
    "import string, re\n",
    "from nltk.stem.snowball import SnowballStemmer\n",
    "\n",
    "pattern = \"([a-zA-Z]+(?:'[a-z]+)?)\"\n",
    "\n",
    "# stop words\n",
    "from nltk.corpus import stopwords\n",
    "stopwords.words(\"english\")\n",
    "\n",
    "stop_words = set(stopwords.words('english'))\n",
    "\n",
    "# stem words\n",
    "stemmer = SnowballStemmer(\"english\")\n",
    "\n",
    "\n",
    "#tokenize the text in the article content\n",
    "df['text'] = df['text'].str.lower()\n",
    "df['text'] = df['text'].apply(lambda x: nltk.regexp_tokenize(x, pattern))\n",
    "df['text'] = df['text'].apply(lambda x: [w for w in x if not w in stop_words])\n",
    "df['text'] = df['text'].apply(lambda x: [stemmer.stem(word) for word in x])\n",
    "df['text'] = df['text'].apply(lambda x: ' '.join(x))\n",
    "\n",
    "print(df.columns)\n",
    "y = df['positivity']\n",
    "X = df['text']"
   ]
  },
  {
   "cell_type": "markdown",
   "metadata": {},
   "source": [
    "## Test-Train Split"
   ]
  },
  {
   "cell_type": "code",
   "execution_count": 78,
   "metadata": {},
   "outputs": [],
   "source": [
    "from sklearn.model_selection import train_test_split\n",
    "from sklearn.feature_extraction.text import TfidfVectorizer\n",
    "\n",
    "\n",
    "#test train split data\n",
    "X_train, X_test, y_train, y_test = train_test_split(X, y, test_size=0.2, random_state=0)\n",
    "\n",
    "tfidf = TfidfVectorizer()\n",
    "\n",
    "#vectorize the train and test\n",
    "x_train_tfidf = tfidf.fit_transform(X_train)\n",
    "\n",
    "# X_train = pd.DataFrame(train_df.toarray(), columns=tfidf.get_feature_names())\n",
    "\n",
    "X_test_tfidf = tfidf.transform(X_test)"
   ]
  },
  {
   "cell_type": "code",
   "execution_count": 79,
   "metadata": {},
   "outputs": [],
   "source": [
    "X_train = pd.DataFrame(x_train_tfidf.toarray(), columns=tfidf.get_feature_names())\n",
    "X_test = pd.DataFrame(X_test_tfidf.toarray(), columns=tfidf.get_feature_names())"
   ]
  },
  {
   "cell_type": "markdown",
   "metadata": {},
   "source": [
    "## PCA"
   ]
  },
  {
   "cell_type": "code",
   "execution_count": 28,
   "metadata": {},
   "outputs": [],
   "source": [
    "# from sklearn.decomposition import PCA\n",
    "\n",
    "# pca_X_train = pd.DataFrame(X_train, columns=tfidf.get_feature_names())\n",
    "# pca_X_test = pd.DataFrame(X_test, columns=tfidf.get_feature_names())\n",
    "\n",
    "# pca = PCA(.95)"
   ]
  },
  {
   "cell_type": "code",
   "execution_count": 29,
   "metadata": {},
   "outputs": [],
   "source": [
    "# X_train = pca.fit_transform(pca_X_train)\n",
    "\n",
    "# X_test = pca.transform(pca_X_test)"
   ]
  },
  {
   "cell_type": "code",
   "execution_count": 30,
   "metadata": {
    "scrolled": true
   },
   "outputs": [],
   "source": [
    "# pca.n_components_"
   ]
  },
  {
   "cell_type": "markdown",
   "metadata": {},
   "source": [
    "## Train Models"
   ]
  },
  {
   "cell_type": "code",
   "execution_count": 31,
   "metadata": {},
   "outputs": [
    {
     "name": "stdout",
     "output_type": "stream",
     "text": [
      "LinearSVC\n",
      "Training Accuracy: 1.0 \t\t Testing Accuracy: 0.5696\n",
      "F1 Score: 0.5695538057742782\n"
     ]
    }
   ],
   "source": [
    "from sklearn.svm import LinearSVC\n",
    "from sklearn.metrics import accuracy_score, f1_score\n",
    "\n",
    "lsvc_classifier = LinearSVC(C=10.0, dual=False, loss=\"squared_hinge\", penalty=\"l2\", tol=0.1)\n",
    "\n",
    "lsvc_classifier.fit(X_train, y_train)\n",
    "lsvc_train_preds = lsvc_classifier.predict(X_train)\n",
    "lsvc_test_preds = lsvc_classifier.predict(X_test)\n",
    "\n",
    "lsvc_train_score = accuracy_score(y_train, lsvc_train_preds)\n",
    "lsvc_test_score = accuracy_score(y_test, lsvc_test_preds)\n",
    "\n",
    "print('LinearSVC')\n",
    "print(\"Training Accuracy: {:.4} \\t\\t Testing Accuracy: {:.4}\".format(lsvc_train_score, lsvc_test_score))\n",
    "print(\"F1 Score: {}\".format(f1_score(y_test, lsvc_test_preds, average='micro')))"
   ]
  },
  {
   "cell_type": "code",
   "execution_count": 32,
   "metadata": {},
   "outputs": [
    {
     "name": "stdout",
     "output_type": "stream",
     "text": [
      "LinearSVC\n",
      "Training Accuracy: 0.9573 \t\t Testing Accuracy: 0.6142\n",
      "F1 Score: 0.5695538057742782\n"
     ]
    }
   ],
   "source": [
    "lsvc2_classifier = LinearSVC(C=0.5, dual=True, loss=\"squared_hinge\", penalty=\"l2\", tol=0.001)\n",
    "lsvc2_classifier.fit(X_train, y_train)\n",
    "lsvc2_train_preds = lsvc2_classifier.predict(X_train)\n",
    "lsvc2_test_preds = lsvc2_classifier.predict(X_test)\n",
    "\n",
    "lsvc2_train_score = accuracy_score(y_train, lsvc2_train_preds)\n",
    "lsvc2_test_score = accuracy_score(y_test, lsvc2_test_preds)\n",
    "\n",
    "print('LinearSVC')\n",
    "print(\"Training Accuracy: {:.4} \\t\\t Testing Accuracy: {:.4}\".format(lsvc2_train_score, lsvc2_test_score))\n",
    "print(\"F1 Score: {}\".format(f1_score(y_test, lsvc_test_preds, average='micro')))"
   ]
  },
  {
   "cell_type": "code",
   "execution_count": 33,
   "metadata": {},
   "outputs": [],
   "source": [
    "x = 'Amazon beat on earnings and revenues—here’s what three experts are saying about the stock now Amazon beat on earnings and revenues—here’s what five experts are saying about the stock now   11:30 AM ET Fri, 1 Feb 2019 | 04:22 Amazon cloud-computing division said revenue jumped 45 percent in the fourth quarter, as the company continued to cement its lead over Microsoft and Google.  Sales at Amazon Web Services climbed to $7.43 billion from $5.11 billion a year ago, topping the $7.29 billion consensus estimate among analysts polled by FactSet. AWS revenue represented 10 percent of total quarterly sales at Amazon.  The cloud business has become crucial to the success of its parent, not only for revenue but also for profits.  Operating income for AWS in the quarter was $2.18 billion, exceeding the $2.09 billion FactSet consensus estimate. The unit accounted for 58 percent of Amazons overall operating income. AWS operating margin was 29 percent, shrinking from 31 percent the prior quarter.  LIVE, NEWS-MAKING DISCUSSIONS UNIQUE, IN-PERSON EXPERIENCES LEARN MORE + JOIN US   Gene Munsters key takeaways from Amazons quarter Gene Munsters key takeaways from Amazons quarter   5:44 PM ET Thu, 31 Jan 2019 | 05:24 \"We are getting more and more creative around getting efficiency up and getting our cost of acquisition down,\" Amazons chief financial officer, Brian Olsavsky, told analysts on the companys quarterly earnings call on Thursday.  AWS beat Microsoft and Google to the market for cloud infrastructure, which companies use to outsource their computing and data storage needs, and has held onto its lead.  However, Microsofts business is growing faster, even though its still smaller than AWS. The software company said on Wednesday that Azure cloud revenue grew 76 percent in the latest quarter.  Brian Weiser, an analyst at Pivotal Research Group, had estimated that AWS would generate fourth-quarter revenue of $7.41 billion.  \"With substantial upside potential for AWS and a strong track record, we think we can safely assume significant ongoing revenue growth for the foreseeable future,\" wrote Weiser, who initiated Amazon coverage with a \"buy\" rating earlier this month.  AWS big announcements in the period included the introduction of new computing instances that rely on ARM-based server chips, custom-built chips for accelerating artificial-intelligence work and a plan to offer hardware equipped with AWS software for corporate data centers.'\n",
    "        \n",
    "        \n",
    "        "
   ]
  },
  {
   "cell_type": "code",
   "execution_count": 34,
   "metadata": {},
   "outputs": [
    {
     "data": {
      "text/plain": [
       "4"
      ]
     },
     "execution_count": 34,
     "metadata": {},
     "output_type": "execute_result"
    }
   ],
   "source": [
    "def text_cleaner(description):\n",
    "    '''uses regex to tokenize words and capture them from the description, \n",
    "    lowers the capitilization remove stop words, reduce to stem words, \n",
    "    and joins them all in a string'''\n",
    "    tokens_raw = nltk.regexp_tokenize(description, pattern)\n",
    "    tokens = [i.lower() for i in tokens_raw]\n",
    "    tokens_stopped = [w for w in tokens if not w in stop_words]\n",
    "    stemmed = [stemmer.stem(word) for word in tokens_stopped]\n",
    "    cleaned = ' '.join(stemmed)\n",
    "    return cleaned\n",
    "\n",
    "\n",
    "\n",
    "def dict_cleaner(dictionary):\n",
    "    '''iterates through the dictionary values in each key (category) \n",
    "    and cleans each description and adds it back to a new list'''\n",
    "    description_list = []\n",
    "    for c, d in dictionary.items():\n",
    "        for description in d:\n",
    "            cleaned = text_cleaner(description)\n",
    "            description_list.append(cleaned)\n",
    "    return description_list\n",
    "\n",
    "\n",
    "def vc_predict_app(x):    \n",
    "    x_trial = text_cleaner(x)\n",
    "    \n",
    "    x_vect = tfidf.transform([x_trial])\n",
    "\n",
    "    df_predict = pd.DataFrame(x_vect.toarray(), columns=tfidf.get_feature_names())\n",
    "\n",
    "    return lsvc2_classifier.predict(df_predict)[0]\n",
    "\n",
    "vc_predict_app(x)"
   ]
  },
  {
   "cell_type": "code",
   "execution_count": 35,
   "metadata": {},
   "outputs": [],
   "source": [
    "# numbers = {}\n",
    "# for key, value in microsoft_content.items():\n",
    "#     number = vc_predict_app(value)\n",
    "#     numbers.update({key : number})\n",
    "    "
   ]
  },
  {
   "cell_type": "code",
   "execution_count": 36,
   "metadata": {},
   "outputs": [],
   "source": [
    "# numbers"
   ]
  },
  {
   "cell_type": "markdown",
   "metadata": {},
   "source": [
    "## KNN"
   ]
  },
  {
   "cell_type": "code",
   "execution_count": 37,
   "metadata": {},
   "outputs": [
    {
     "name": "stdout",
     "output_type": "stream",
     "text": [
      "KNN\n",
      "Training Accuracy: 0.643 \t\t Testing Accuracy: 0.5538\n",
      "F1 Score: 0.5538057742782152\n"
     ]
    }
   ],
   "source": [
    "from sklearn.neighbors import KNeighborsClassifier\n",
    "\n",
    "knn = KNeighborsClassifier()\n",
    "\n",
    "knn.fit(X_train, y_train)\n",
    "knn_train_preds = knn.predict(X_train)\n",
    "knn_test_preds = knn.predict(X_test)\n",
    "\n",
    "knn_train_score = accuracy_score(y_train, knn_train_preds)\n",
    "knn_test_score = accuracy_score(y_test, knn_test_preds)\n",
    "\n",
    "print(\"KNN\")\n",
    "print(\"Training Accuracy: {:.4} \\t\\t Testing Accuracy: {:.4}\".format(knn_train_score, knn_test_score))\n",
    "print(\"F1 Score: {}\".format(f1_score(y_test, knn_test_preds, average='micro')))"
   ]
  },
  {
   "cell_type": "code",
   "execution_count": 38,
   "metadata": {},
   "outputs": [
    {
     "name": "stdout",
     "output_type": "stream",
     "text": [
      "Multinomial Naive Bayes\n",
      "Training Accuracy: 0.6004 \t\t Testing Accuracy: 0.5591\n",
      "F1 Score: 0.5590551181102362\n"
     ]
    }
   ],
   "source": [
    "from sklearn.naive_bayes import MultinomialNB\n",
    "\n",
    "nb_classifier = MultinomialNB()\n",
    "\n",
    "nb_classifier.fit(X_train, y_train)\n",
    "nb_train_preds = nb_classifier.predict(X_train)\n",
    "nb_test_preds = nb_classifier.predict(X_test)\n",
    "\n",
    "nb_train_score = accuracy_score(y_train, nb_train_preds)\n",
    "nb_test_score = accuracy_score(y_test, nb_test_preds)\n",
    "\n",
    "print(\"Multinomial Naive Bayes\")\n",
    "print(\"Training Accuracy: {:.4} \\t\\t Testing Accuracy: {:.4}\".format(nb_train_score, nb_test_score))\n",
    "print(\"F1 Score: {}\".format(f1_score(y_test, nb_test_preds, average='micro')))"
   ]
  },
  {
   "cell_type": "code",
   "execution_count": 41,
   "metadata": {},
   "outputs": [
    {
     "name": "stdout",
     "output_type": "stream",
     "text": [
      "Random Forest\n",
      "Training Accuracy: 1.0 \t\t Testing Accuracy: 0.643\n",
      "F1 Score: 0.6430446194225722\n"
     ]
    }
   ],
   "source": [
    "from sklearn.ensemble import RandomForestClassifier\n",
    "\n",
    "rf_classifier = RandomForestClassifier(n_estimators=50)\n",
    "\n",
    "rf_classifier.fit(X_train, y_train)\n",
    "rf_train_preds = rf_classifier.predict(X_train)\n",
    "rf_test_preds = rf_classifier.predict(X_test)\n",
    "\n",
    "rf_train_score = accuracy_score(y_train, rf_train_preds)\n",
    "rf_test_score = accuracy_score(y_test, rf_test_preds)\n",
    "\n",
    "print('Random Forest')\n",
    "print(\"Training Accuracy: {:.4} \\t\\t Testing Accuracy: {:.4}\".format(rf_train_score, rf_test_score))\n",
    "print(\"F1 Score: {}\".format(f1_score(y_test, rf_test_preds, average='micro')))"
   ]
  },
  {
   "cell_type": "code",
   "execution_count": 42,
   "metadata": {},
   "outputs": [],
   "source": [
    "# RandomForestClassifier.predict("
   ]
  },
  {
   "cell_type": "code",
   "execution_count": 76,
   "metadata": {},
   "outputs": [
    {
     "name": "stderr",
     "output_type": "stream",
     "text": [
      "/anaconda3/lib/python3.6/site-packages/sklearn/svm/base.py:196: FutureWarning: The default value of gamma will change from 'auto' to 'scale' in version 0.22 to account better for unscaled features. Set gamma explicitly to 'auto' or 'scale' to avoid this warning.\n",
      "  \"avoid this warning.\", FutureWarning)\n"
     ]
    },
    {
     "name": "stdout",
     "output_type": "stream",
     "text": [
      "SVM\n",
      "Training Accuracy: 0.5072 \t\t Testing Accuracy: 0.5512\n",
      "F1 Score: 0.5511811023622047\n"
     ]
    }
   ],
   "source": [
    "from sklearn import svm\n",
    "\n",
    "svm_clf = svm.SVC(probability=True)\n",
    "\n",
    "svm_clf.fit(X_train, y_train)\n",
    "svm_train_preds = svm_clf.predict(X_train)\n",
    "svm_test_preds = svm_clf.predict(X_test)\n",
    "\n",
    "svm_train_score = accuracy_score(y_train, svm_train_preds)\n",
    "svm_test_score = accuracy_score(y_test, svm_test_preds)\n",
    "\n",
    "print('SVM')\n",
    "print(\"Training Accuracy: {:.4} \\t\\t Testing Accuracy: {:.4}\".format(svm_train_score, svm_test_score))\n",
    "print(\"F1 Score: {}\".format(f1_score(y_test, svm_test_preds, average='micro')))"
   ]
  },
  {
   "cell_type": "code",
   "execution_count": 44,
   "metadata": {},
   "outputs": [
    {
     "name": "stdout",
     "output_type": "stream",
     "text": [
      "Gradient Boosting\n",
      "Training Accuracy: 0.6496 \t\t Testing Accuracy: 0.6115\n",
      "F1 Score: 0.6115485564304461\n"
     ]
    }
   ],
   "source": [
    "from sklearn.ensemble import GradientBoostingClassifier\n",
    "\n",
    "\n",
    "gb_clf = GradientBoostingClassifier(learning_rate=0.01, max_depth=6, max_features=0.2, min_samples_leaf=3, min_samples_split=15, n_estimators=100, subsample=0.25)\n",
    "\n",
    "gb_clf.fit(X_train, y_train)\n",
    "gb_train_preds = gb_clf.predict(X_train)\n",
    "gb_test_preds = gb_clf.predict(X_test)\n",
    "\n",
    "gb_train_score = accuracy_score(y_train, gb_train_preds)\n",
    "gb_test_score = accuracy_score(y_test, gb_test_preds)\n",
    "\n",
    "print('Gradient Boosting')\n",
    "print(\"Training Accuracy: {:.4} \\t\\t Testing Accuracy: {:.4}\".format(gb_train_score, gb_test_score))\n",
    "print(\"F1 Score: {}\".format(f1_score(y_test, gb_test_preds, average='micro')))"
   ]
  },
  {
   "cell_type": "code",
   "execution_count": 45,
   "metadata": {},
   "outputs": [
    {
     "name": "stdout",
     "output_type": "stream",
     "text": [
      "AdaBoosting\n",
      "Training Accuracy: 0.5492 \t\t Testing Accuracy: 0.5039\n",
      "F1 Score: 0.5039370078740157\n"
     ]
    }
   ],
   "source": [
    "from sklearn.ensemble import AdaBoostClassifier\n",
    "\n",
    "adaboost_clf = AdaBoostClassifier()\n",
    "\n",
    "adaboost_clf.fit(X_train, y_train)\n",
    "adaboost_train_preds = adaboost_clf.predict(X_train)\n",
    "adaboost_test_preds = adaboost_clf.predict(X_test)\n",
    "\n",
    "adaboost_train_score = accuracy_score(y_train, adaboost_train_preds)\n",
    "adaboost_test_score = accuracy_score(y_test, adaboost_test_preds)\n",
    "\n",
    "print('AdaBoosting')\n",
    "print(\"Training Accuracy: {:.4} \\t\\t Testing Accuracy: {:.4}\".format(adaboost_train_score, adaboost_test_score))\n",
    "print(\"F1 Score: {}\".format(f1_score(y_test, adaboost_test_preds, average='micro')))"
   ]
  },
  {
   "cell_type": "code",
   "execution_count": 46,
   "metadata": {},
   "outputs": [
    {
     "name": "stdout",
     "output_type": "stream",
     "text": [
      "AdaBoosting\n",
      "Training Accuracy: 0.7631 \t\t Testing Accuracy: 0.6194\n",
      "F1 Score: 0.6194225721784777\n"
     ]
    }
   ],
   "source": [
    "import os\n",
    "os.environ['KMP_DUPLICATE_LIB_OK']='True'\n",
    "from xgboost import XGBClassifier\n",
    "\n",
    "\n",
    "xgb_clf = XGBClassifier()\n",
    "xgb_clf.fit(X_train, y_train)\n",
    "xgb_train_preds = xgb_clf.predict(X_train)\n",
    "xgb_test_preds = xgb_clf.predict(X_test)\n",
    "\n",
    "xgb_train_score = accuracy_score(y_train, xgb_train_preds)\n",
    "xgb_test_score = accuracy_score(y_test, xgb_test_preds)\n",
    "\n",
    "print('AdaBoosting')\n",
    "print(\"Training Accuracy: {:.4} \\t\\t Testing Accuracy: {:.4}\".format(xgb_train_score, xgb_test_score))\n",
    "print(\"F1 Score: {}\".format(f1_score(y_test, xgb_test_preds, average='micro')))"
   ]
  },
  {
   "cell_type": "markdown",
   "metadata": {},
   "source": [
    "## Voting Classifier"
   ]
  },
  {
   "cell_type": "code",
   "execution_count": null,
   "metadata": {},
   "outputs": [],
   "source": [
    "# from sklearn.ensemble import VotingClassifier\n",
    "# from sklearn.ensemble import GradientBoostingClassifier\n",
    "\n",
    "# svc1 = LinearSVC(C=25.0, dual=False, loss=\"squared_hinge\", penalty=\"l2\", tol=0.001)\n",
    "# svc2 = LinearSVC(C=1.0, dual=True, loss=\"hinge\", penalty=\"l2\", tol=1e-05)\n",
    "# gb_clf = GradientBoostingClassifier(learning_rate=0.01, max_depth=6, max_features=0.2, min_samples_leaf=3, min_samples_split=15, n_estimators=100, subsample=0.25)\n",
    "\n",
    "\n",
    "# vc_clf = VotingClassifier(estimators=[('lsvc2_classifier', lsvc2_classifier),\n",
    "#                                       ('lsvc_classifier', lsvc_classifier),\n",
    "#                                       ('knn', knn),\n",
    "# #                                     ('svc1', svc1), \n",
    "# #                                      ('svc2', svc2),\n",
    "#                                      ('gb_clf', gb_clf),\n",
    "#                                       ('xgb_clf', xgb_clf)\n",
    "# #                                     ('nb', nb_classifier),\n",
    "# #                                     ('rf', rf_classifier)\n",
    "#                                      ], voting='hard')\n",
    "\n",
    "# vc_clf.fit(X_train, y_train)"
   ]
  },
  {
   "cell_type": "code",
   "execution_count": 54,
   "metadata": {},
   "outputs": [
    {
     "name": "stderr",
     "output_type": "stream",
     "text": [
      "/anaconda3/lib/python3.6/site-packages/sklearn/svm/base.py:196: FutureWarning: The default value of gamma will change from 'auto' to 'scale' in version 0.22 to account better for unscaled features. Set gamma explicitly to 'auto' or 'scale' to avoid this warning.\n",
      "  \"avoid this warning.\", FutureWarning)\n"
     ]
    },
    {
     "data": {
      "text/plain": [
       "VotingClassifier(estimators=[('lsvc2_classifier', LinearSVC(C=0.5, class_weight=None, dual=True, fit_intercept=True,\n",
       "     intercept_scaling=1, loss='squared_hinge', max_iter=1000,\n",
       "     multi_class='ovr', penalty='l2', random_state=None, tol=0.001,\n",
       "     verbose=0)), ('lsvc_classifier', LinearSVC(C=10.0, class_weight=...obs=None,\n",
       "            oob_score=False, random_state=None, verbose=0,\n",
       "            warm_start=False))],\n",
       "         flatten_transform=None, n_jobs=None, voting='hard', weights=None)"
      ]
     },
     "execution_count": 54,
     "metadata": {},
     "output_type": "execute_result"
    }
   ],
   "source": [
    "from sklearn.ensemble import VotingClassifier\n",
    "from sklearn.ensemble import GradientBoostingClassifier\n",
    "\n",
    "svc1 = LinearSVC(C=25.0, dual=False, loss=\"squared_hinge\", penalty=\"l2\", tol=0.001)\n",
    "svc2 = LinearSVC(C=1.0, dual=True, loss=\"hinge\", penalty=\"l2\", tol=1e-05)\n",
    "gb_clf = GradientBoostingClassifier(learning_rate=0.01, max_depth=6, max_features=0.2, min_samples_leaf=3, min_samples_split=15, n_estimators=100, subsample=0.25)\n",
    "\n",
    "\n",
    "vc_clf = VotingClassifier(estimators=[('lsvc2_classifier', lsvc2_classifier),\n",
    "                                       ('lsvc_classifier', lsvc_classifier),\n",
    "                                       ('knn', knn),\n",
    "#                                     ('svc1', svc1), \n",
    "#                                      ('svc2', svc2),\n",
    "                                      ('svm_clf', svm_clf),\n",
    "                                     ('gb_clf', gb_clf),\n",
    "                                      ('xgb_clf', xgb_clf),\n",
    "                                     ('nb', nb_classifier),\n",
    "                                     ('rf', rf_classifier)\n",
    "                                     ], voting='hard')\n",
    "\n",
    "vc_clf.fit(X_train, y_train)"
   ]
  },
  {
   "cell_type": "code",
   "execution_count": 55,
   "metadata": {},
   "outputs": [
    {
     "name": "stdout",
     "output_type": "stream",
     "text": [
      "Voting Classifier\n",
      "Training Accuracy: 0.7585 \t\t Testing Accuracy: 0.5984\n",
      "F1 Score: 0.5984251968503937\n"
     ]
    }
   ],
   "source": [
    "vc_train_preds = vc_clf.predict(X_train)\n",
    "vc_test_preds = vc_clf.predict(X_test)\n",
    "\n",
    "vc_train_score = accuracy_score(y_train, vc_train_preds)\n",
    "vc_test_score = accuracy_score(y_test, vc_test_preds)\n",
    "\n",
    "print('Voting Classifier')\n",
    "print(\"Training Accuracy: {:.4} \\t\\t Testing Accuracy: {:.4}\".format(vc_train_score, vc_test_score))\n",
    "print(\"F1 Score: {}\".format(f1_score(y_test, vc_test_preds, average='micro')))"
   ]
  },
  {
   "cell_type": "code",
   "execution_count": null,
   "metadata": {},
   "outputs": [
    {
     "name": "stdout",
     "output_type": "stream",
     "text": [
      "30 operators have been imported by TPOT.\n"
     ]
    },
    {
     "data": {
      "application/vnd.jupyter.widget-view+json": {
       "model_id": "1bc283b87bf04efe8e68113fdb8d9819",
       "version_major": 2,
       "version_minor": 0
      },
      "text/plain": [
       "HBox(children=(IntProgress(value=0, description='Optimization Progress', max=2100, style=ProgressStyle(descrip…"
      ]
     },
     "metadata": {},
     "output_type": "display_data"
    }
   ],
   "source": [
    "from tpot import TPOTClassifier\n",
    "# from tpot.config import tpot_config\n",
    "\n",
    "\n",
    "classifier_config_dict = {\n",
    "\n",
    "    \n",
    "\n",
    "   \n",
    "\n",
    "    'sklearn.svm.LinearSVC': {\n",
    "        'penalty': [\"l1\", \"l2\"],\n",
    "        'loss': [\"hinge\", \"squared_hinge\"],\n",
    "        'dual': [True, False],\n",
    "        'tol': [1e-5, 1e-4, 1e-3, 1e-2, 1e-1],\n",
    "        'C': [1e-4, 1e-3, 1e-2, 1e-1, 0.5, 1., 5., 10., 15., 20., 25.]\n",
    "    }\n",
    "\n",
    "}\n",
    "\n",
    "\n",
    "tpot = TPOTClassifier(generations=20,\n",
    "#                       config_dict=classifier_config_dict,\n",
    "                      cv = 3 ,\n",
    "#                       population_size=30,\n",
    "                      max_eval_time_mins=7, \n",
    "                      verbosity=3,\n",
    "                     periodic_checkpoint_folder='foldername1'\n",
    "                     )\n",
    "\n",
    "\n",
    "#we ran the classifier, which will tell us the best model to use.\n",
    "tpot.fit(X_train, y_train)\n",
    "# tpot.export('filename.py')"
   ]
  },
  {
   "cell_type": "markdown",
   "metadata": {},
   "source": [
    " "
   ]
  },
  {
   "cell_type": "code",
   "execution_count": 77,
   "metadata": {},
   "outputs": [
    {
     "ename": "NameError",
     "evalue": "name 'tpot' is not defined",
     "output_type": "error",
     "traceback": [
      "\u001b[0;31m---------------------------------------------------------------------------\u001b[0m",
      "\u001b[0;31mNameError\u001b[0m                                 Traceback (most recent call last)",
      "\u001b[0;32m<ipython-input-77-04ab1d516ea3>\u001b[0m in \u001b[0;36m<module>\u001b[0;34m\u001b[0m\n\u001b[0;32m----> 1\u001b[0;31m \u001b[0mtpot\u001b[0m\u001b[0;34m.\u001b[0m\u001b[0mexport\u001b[0m\u001b[0;34m(\u001b[0m\u001b[0;34m'file.py'\u001b[0m\u001b[0;34m)\u001b[0m\u001b[0;34m\u001b[0m\u001b[0;34m\u001b[0m\u001b[0m\n\u001b[0m",
      "\u001b[0;31mNameError\u001b[0m: name 'tpot' is not defined"
     ]
    }
   ],
   "source": [
    "tpot.export('file.py')"
   ]
  },
  {
   "cell_type": "markdown",
   "metadata": {},
   "source": [
    "## Confusion Matrix"
   ]
  },
  {
   "cell_type": "code",
   "execution_count": 60,
   "metadata": {},
   "outputs": [],
   "source": [
    "import matplotlib.pyplot as plt\n",
    "from sklearn.metrics import confusion_matrix, f1_score, classification_report\n",
    "import itertools\n",
    "\n",
    "def plot_confusion_matrix(cm, classes,\n",
    "                          normalize=False,\n",
    "                          title='Confusion matrix',\n",
    "                          cmap=plt.cm.Blues):\n",
    "    #Add Normalization Option\n",
    "    '''prints pretty confusion metric with normalization option '''\n",
    "    if normalize:\n",
    "        cm = cm.astype('float') / cm.sum(axis=1)[:, np.newaxis]\n",
    "        print(\"Normalized confusion matrix\")\n",
    "    else:\n",
    "        print('Confusion matrix, without normalization')\n",
    "\n",
    "    print(cm)\n",
    "\n",
    "    plt.imshow(cm, interpolation='nearest', cmap=cmap)\n",
    "    plt.title(title)\n",
    "    plt.colorbar()\n",
    "    tick_marks = np.arange(len(classes))\n",
    "    plt.xticks(tick_marks, classes, rotation=45)\n",
    "    plt.yticks(tick_marks, classes)\n",
    "\n",
    "    fmt = '.2f' if normalize else 'd'\n",
    "    thresh = cm.max() / 2.\n",
    "    for i, j in itertools.product(range(cm.shape[0]), range(cm.shape[1])):\n",
    "        plt.text(j, i, format(cm[i, j], fmt),\n",
    "                 horizontalalignment=\"center\",\n",
    "                 color=\"white\" if cm[i, j] > thresh else \"black\")\n",
    "    plt.tight_layout()\n",
    "    plt.ylabel('True label')\n",
    "    plt.xlabel('Predicted label')\n",
    "    \n",
    "cm = confusion_matrix(y_test, svm_test_preds)\n",
    "cate = df.keys()\n"
   ]
  },
  {
   "cell_type": "code",
   "execution_count": 61,
   "metadata": {},
   "outputs": [
    {
     "name": "stdout",
     "output_type": "stream",
     "text": [
      "Confusion matrix, without normalization\n",
      "[[  0  14   0   4   0]\n",
      " [  0 187   0  23   0]\n",
      " [  0   3   0   1   0]\n",
      " [  0  65   0  58   0]\n",
      " [  0  22   0   4   0]]\n"
     ]
    },
    {
     "data": {
      "image/png": "[encoded data removed]",
      "text/plain": [
       "<Figure size 720x720 with 2 Axes>"
      ]
     },
     "metadata": {
      "needs_background": "light"
     },
     "output_type": "display_data"
    }
   ],
   "source": [
    "cm = confusion_matrix(y_test, svm_test_preds)\n",
    "cate = df['positivity'].unique()\n",
    "plt.figure(figsize=(10,10))\n",
    "plot_confusion_matrix(cm, cate)\n",
    "\n",
    "#5 is neutral, 6-7 is weakly positive, 8-9 is positive, 3-4 weakly negative, 1-2 is negative\n",
    "\n",
    "#1 is negative, 2 weakly negative, 3 is positive, 4 is weakly positive, 5 is neutral"
   ]
  },
  {
   "cell_type": "code",
   "execution_count": 64,
   "metadata": {},
   "outputs": [],
   "source": [
    "import pickle"
   ]
  },
  {
   "cell_type": "code",
   "execution_count": 65,
   "metadata": {},
   "outputs": [],
   "source": [
    "pickling_on = open(\"svm_clf.pickle\",\"wb\")\n",
    "pickle.dump(svm_clf, pickling_on)\n",
    "pickling_on.close()"
   ]
  },
  {
   "cell_type": "code",
   "execution_count": 66,
   "metadata": {},
   "outputs": [],
   "source": [
    "svm = pd.read_pickle('svm_clf.pickle')"
   ]
  },
  {
   "cell_type": "code",
   "execution_count": 68,
   "metadata": {},
   "outputs": [
    {
     "data": {
      "text/plain": [
       "SVC(C=1.0, cache_size=200, class_weight=None, coef0=0.0,\n",
       "  decision_function_shape='ovr', degree=3, gamma='auto_deprecated',\n",
       "  kernel='rbf', max_iter=-1, probability=True, random_state=None,\n",
       "  shrinking=True, tol=0.001, verbose=False)"
      ]
     },
     "execution_count": 68,
     "metadata": {},
     "output_type": "execute_result"
    }
   ],
   "source": [
    "svm\n"
   ]
  },
  {
   "cell_type": "code",
   "execution_count": 80,
   "metadata": {},
   "outputs": [],
   "source": [
    "def vc_predict_app(x):    \n",
    "    x_trial = text_cleaner(x)\n",
    "    \n",
    "    x_vect = tfidf.transform([x_trial])\n",
    "\n",
    "    df_predict = pd.DataFrame(x_vect.toarray(), columns=tfidf.get_feature_names())\n",
    "\n",
    "    return svm.predict(df_predict)[0]"
   ]
  },
  {
   "cell_type": "code",
   "execution_count": 81,
   "metadata": {},
   "outputs": [
    {
     "ename": "AttributeError",
     "evalue": "module 'sklearn.svm' has no attribute 'predict'",
     "output_type": "error",
     "traceback": [
      "\u001b[0;31m---------------------------------------------------------------------------\u001b[0m",
      "\u001b[0;31mAttributeError\u001b[0m                            Traceback (most recent call last)",
      "\u001b[0;32m<ipython-input-81-571fd2569156>\u001b[0m in \u001b[0;36m<module>\u001b[0;34m\u001b[0m\n\u001b[0;32m----> 1\u001b[0;31m \u001b[0mvc_predict_app\u001b[0m\u001b[0;34m(\u001b[0m\u001b[0mx\u001b[0m\u001b[0;34m)\u001b[0m\u001b[0;34m\u001b[0m\u001b[0;34m\u001b[0m\u001b[0m\n\u001b[0m",
      "\u001b[0;32m<ipython-input-80-b90b6974b625>\u001b[0m in \u001b[0;36mvc_predict_app\u001b[0;34m(x)\u001b[0m\n\u001b[1;32m      6\u001b[0m     \u001b[0mdf_predict\u001b[0m \u001b[0;34m=\u001b[0m \u001b[0mpd\u001b[0m\u001b[0;34m.\u001b[0m\u001b[0mDataFrame\u001b[0m\u001b[0;34m(\u001b[0m\u001b[0mx_vect\u001b[0m\u001b[0;34m.\u001b[0m\u001b[0mtoarray\u001b[0m\u001b[0;34m(\u001b[0m\u001b[0;34m)\u001b[0m\u001b[0;34m,\u001b[0m \u001b[0mcolumns\u001b[0m\u001b[0;34m=\u001b[0m\u001b[0mtfidf\u001b[0m\u001b[0;34m.\u001b[0m\u001b[0mget_feature_names\u001b[0m\u001b[0;34m(\u001b[0m\u001b[0;34m)\u001b[0m\u001b[0;34m)\u001b[0m\u001b[0;34m\u001b[0m\u001b[0;34m\u001b[0m\u001b[0m\n\u001b[1;32m      7\u001b[0m \u001b[0;34m\u001b[0m\u001b[0m\n\u001b[0;32m----> 8\u001b[0;31m     \u001b[0;32mreturn\u001b[0m \u001b[0msvm\u001b[0m\u001b[0;34m.\u001b[0m\u001b[0mpredict\u001b[0m\u001b[0;34m(\u001b[0m\u001b[0mdf_predict\u001b[0m\u001b[0;34m)\u001b[0m\u001b[0;34m[\u001b[0m\u001b[0;36m0\u001b[0m\u001b[0;34m]\u001b[0m\u001b[0;34m\u001b[0m\u001b[0;34m\u001b[0m\u001b[0m\n\u001b[0m",
      "\u001b[0;31mAttributeError\u001b[0m: module 'sklearn.svm' has no attribute 'predict'"
     ]
    }
   ],
   "source": [
    "vc_predict_app(x)"
   ]
  },
  {
   "cell_type": "code",
   "execution_count": null,
   "metadata": {},
   "outputs": [],
   "source": []
  }
 ],
 "metadata": {
  "kernelspec": {
   "display_name": "Python 3",
   "language": "python",
   "name": "python3"
  },
  "language_info": {
   "codemirror_mode": {
    "name": "ipython",
    "version": 3
   },
   "file_extension": ".py",
   "mimetype": "text/x-python",
   "name": "python",
   "nbconvert_exporter": "python",
   "pygments_lexer": "ipython3",
   "version": "3.6.8"
  }
 },
 "nbformat": 4,
 "nbformat_minor": 2
}
